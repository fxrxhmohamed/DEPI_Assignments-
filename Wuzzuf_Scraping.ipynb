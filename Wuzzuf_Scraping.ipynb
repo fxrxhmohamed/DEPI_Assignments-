{
 "cells": [
  {
   "cell_type": "markdown",
   "id": "0a94dcc7",
   "metadata": {},
   "source": [
    "#  Wuzzuf Scraping Engineering Jobs Assignment"
   ]
  },
  {
   "cell_type": "code",
   "execution_count": 7,
   "id": "1522aada",
   "metadata": {},
   "outputs": [],
   "source": [
    "from selenium import webdriver\n",
    "from selenium.webdriver.common.by import By\n",
    "from selenium.webdriver.common.keys import Keys\n",
    "from selenium.webdriver.chrome.service import Service\n",
    "from selenium.webdriver.support.ui import WebDriverWait\n",
    "from selenium.webdriver.support import expected_conditions as EC\n",
    "from webdriver_manager.chrome import ChromeDriverManager\n",
    "import time"
   ]
  },
  {
   "cell_type": "code",
   "execution_count": null,
   "id": "5e023f2b",
   "metadata": {},
   "outputs": [],
   "source": [
    "# # Initialize the Chrome driver\n",
    "# driver = webdriver.Chrome(service=Service(ChromeDriverManager().install()))\n",
    "# driver.get(\"https://wuzzuf.net/jobs/egypt\")\n",
    "\n",
    "# # Wait for the page to load and the search box to be clickable\n",
    "# wait = WebDriverWait(driver, 10)\n",
    "\n",
    "# # Locate the search box using its name attribute\n",
    "# search_box = wait.until(EC.element_to_be_clickable((By.NAME, \"q\")))\n",
    "\n",
    "# # Clear the search box and enter the job title \"Engineering Jobs\"\n",
    "# time.sleep(2)  # Wait for the page to load completely\n",
    "# search_box.click()\n",
    "# search_box.clear()\n",
    "# search_box.send_keys(\"Engineering Jobs\")\n",
    "# search_box.send_keys(Keys.RETURN)\n",
    "\n"
   ]
  },
  {
   "cell_type": "markdown",
   "id": "a40900b6",
   "metadata": {},
   "source": [
    "# Da shaghal s7  le7d delw2te ashof fadele eh fl requirments"
   ]
  },
  {
   "cell_type": "code",
   "execution_count": 12,
   "id": "f4f32601",
   "metadata": {},
   "outputs": [],
   "source": [
    "# Initialize the Chrome driver\n",
    "driver = webdriver.Chrome(service=Service(ChromeDriverManager().install()))\n",
    "driver.get(\"https://wuzzuf.net/jobs/egypt\")\n",
    "\n",
    "# Wait for the page to load and the search box to be clickable\n",
    "wait = WebDriverWait(driver, 10)\n",
    "\n",
    "# Locate the search box using its name attribute\n",
    "search_box = wait.until(EC.element_to_be_clickable((By.NAME, \"q\")))\n",
    "\n",
    "# Clear the search box and enter the job title \"Engineering Jobs\"\n",
    "time.sleep(2)  # Wait for the page to load completely\n",
    "search_box.click()\n",
    "search_box.clear()\n",
    "search_box.send_keys(\"Engineering Jobs\")\n",
    "search_box.send_keys(Keys.RETURN)\n",
    "\n",
    "# Wait for the results to load and display the jobs\n",
    "time.sleep(5)  # Wait for the results to load\n",
    "\n",
    "# Wait for the job cards to be present\n",
    "job_cards = wait.until(\n",
    "    EC.presence_of_all_elements_located((By.CSS_SELECTOR, \"div.css-ghe2tq.e1v1l3u10\"))\n",
    ")\n",
    "\n",
    "# # Extract job details from each job card\n",
    "# for job in job_cards:\n",
    "#     title = job.find_element(By.CSS_SELECTOR, \"h2.css-m604qf\").text\n",
    "#     company = job.find_element(By.CSS_SELECTOR, \"a.css-17s97q8\").text\n",
    "#     location = job.find_element(By.CSS_SELECTOR, \"span.css-5wys0k\").text\n",
    "#     print(f\"Job Title: {title}, Company: {company}, Location: {location}\")"
   ]
  }
 ],
 "metadata": {
  "kernelspec": {
   "display_name": "base",
   "language": "python",
   "name": "python3"
  },
  "language_info": {
   "codemirror_mode": {
    "name": "ipython",
    "version": 3
   },
   "file_extension": ".py",
   "mimetype": "text/x-python",
   "name": "python",
   "nbconvert_exporter": "python",
   "pygments_lexer": "ipython3",
   "version": "3.13.5"
  }
 },
 "nbformat": 4,
 "nbformat_minor": 5
}

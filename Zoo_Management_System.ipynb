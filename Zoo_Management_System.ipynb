{
 "cells": [
  {
   "cell_type": "markdown",
   "id": "0a386c09",
   "metadata": {},
   "source": [
    "# Assignment:\n",
    "-> a Zoo Management System. Students will implement classes, inheritance, encapsulation, polymorphism, and special methods while modeling zoo operations."
   ]
  },
  {
   "cell_type": "code",
   "execution_count": null,
   "id": "bcf1c565",
   "metadata": {},
   "outputs": [],
   "source": []
  }
 ],
 "metadata": {
  "kernelspec": {
   "display_name": "base",
   "language": "python",
   "name": "python3"
  },
  "language_info": {
   "name": "python",
   "version": "3.13.5"
  }
 },
 "nbformat": 4,
 "nbformat_minor": 5
}

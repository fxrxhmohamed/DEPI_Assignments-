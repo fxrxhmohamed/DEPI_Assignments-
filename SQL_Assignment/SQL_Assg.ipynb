{
 "cells": [
  {
   "cell_type": "markdown",
   "id": "fe97e001",
   "metadata": {},
   "source": [
    "# This is the SQL Assignment | Bellabeat Case Study"
   ]
  },
  {
   "cell_type": "code",
   "execution_count": null,
   "id": "c5faf076",
   "metadata": {},
   "outputs": [],
   "source": [
    "import numpy as np\n",
    "import pandas as pd\n",
    "import sqlite3 \n",
    "\n",
    "# from mysql.connector import connect\n",
    "# # Connect to MySQL server (not to a specific database)\n",
    "# db = connect(\n",
    "#     host='localhost',\n",
    "#     port=3307,\n",
    "#     user='root',\n",
    "#     password='root'\n",
    "# )\n"
   ]
  }
 ],
 "metadata": {
  "kernelspec": {
   "display_name": "base",
   "language": "python",
   "name": "python3"
  },
  "language_info": {
   "codemirror_mode": {
    "name": "ipython",
    "version": 3
   },
   "file_extension": ".py",
   "mimetype": "text/x-python",
   "name": "python",
   "nbconvert_exporter": "python",
   "pygments_lexer": "ipython3",
   "version": "3.13.5"
  }
 },
 "nbformat": 4,
 "nbformat_minor": 5
}
